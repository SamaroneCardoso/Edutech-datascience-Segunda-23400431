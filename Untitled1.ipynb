{
  "nbformat": 4,
  "nbformat_minor": 0,
  "metadata": {
    "colab": {
      "name": "Untitled1.ipynb",
      "provenance": [],
      "authorship_tag": "ABX9TyMVNWWWrcVPE1r+WbNBzDzh",
      "include_colab_link": true
    },
    "kernelspec": {
      "name": "python3",
      "display_name": "Python 3"
    },
    "language_info": {
      "name": "python"
    }
  },
  "cells": [
    {
      "cell_type": "markdown",
      "metadata": {
        "id": "view-in-github",
        "colab_type": "text"
      },
      "source": [
        "<a href=\"https://colab.research.google.com/github/SamaroneCardoso/Edutech-datascience-Segunda-23400431/blob/main/Untitled1.ipynb\" target=\"_parent\"><img src=\"https://colab.research.google.com/assets/colab-badge.svg\" alt=\"Open In Colab\"/></a>"
      ]
    },
    {
      "cell_type": "markdown",
      "metadata": {
        "id": "PjgW1qIYevjI"
      },
      "source": [
        "Esta é minha primeira linha de codigo!!!"
      ]
    },
    {
      "cell_type": "code",
      "metadata": {
        "colab": {
          "base_uri": "https://localhost:8080/"
        },
        "id": "wQq45D2GdJy7",
        "outputId": "b33b8067-8b61-4c18-b298-33d23ea43a61"
      },
      "source": [
        "print('Olá mundo!!!!')"
      ],
      "execution_count": 5,
      "outputs": [
        {
          "output_type": "stream",
          "text": [
            "Olá mundo!!!!\n"
          ],
          "name": "stdout"
        }
      ]
    },
    {
      "cell_type": "code",
      "metadata": {
        "id": "F1k0UAWBe7I-"
      },
      "source": [
        "def minha_primeira_funcao():\n",
        "  print('Sua 1ª funcao')"
      ],
      "execution_count": 8,
      "outputs": []
    },
    {
      "cell_type": "code",
      "metadata": {
        "colab": {
          "base_uri": "https://localhost:8080/"
        },
        "id": "kip43mcrfMun",
        "outputId": "74c638b9-4e62-406c-8cde-778235f28676"
      },
      "source": [
        "minha_primeira_funcao()"
      ],
      "execution_count": 9,
      "outputs": [
        {
          "output_type": "stream",
          "text": [
            "Sua 1ª funcao\n"
          ],
          "name": "stdout"
        }
      ]
    }
  ]
}